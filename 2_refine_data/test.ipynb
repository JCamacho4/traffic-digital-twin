{
 "cells": [
  {
   "cell_type": "code",
   "execution_count": 2,
   "id": "initial_id",
   "metadata": {
    "collapsed": true,
    "ExecuteTime": {
     "end_time": "2024-06-16T11:13:53.432060Z",
     "start_time": "2024-06-16T11:13:53.429431Z"
    }
   },
   "outputs": [],
   "source": [
    "import networkx as nx\n",
    "import osmnx as ox"
   ]
  },
  {
   "cell_type": "code",
   "outputs": [],
   "source": [
    "from mapfunctions.graph_functions import init_graph_bbox\n",
    "import mapfunctions.constants as const\n",
    "\n",
    "G_own = init_graph_bbox(const.GRAPH_BBOX_NORTH, const.GRAPH_BBOX_SOUTH,\n",
    "                    const.GRAPH_BBOX_EAST, const.GRAPH_BBOX_WEST,\n",
    "                    osm_ways_to_delete=const.osm_ways_to_delete)\n",
    "\n",
    "G_base = ox.load_graphml('./graph_output/base_graph.graphml')\n",
    "\n",
    "# Graph from city\n",
    "# G_malaga = ox.graph_from_place('Málaga, Spain', network_type='drive', simplify=False)"
   ],
   "metadata": {
    "collapsed": false,
    "ExecuteTime": {
     "end_time": "2024-06-16T11:14:33.168722Z",
     "start_time": "2024-06-16T11:14:31.964225Z"
    }
   },
   "id": "4937433247deb3bc",
   "execution_count": 6
  },
  {
   "cell_type": "code",
   "outputs": [
    {
     "name": "stdout",
     "output_type": "stream",
     "text": [
      "[2094195159, 5625095807, 2614757891, 2094195161, 2874546302, 2094195163, 2094195165, 3152120576, 4943984603, 2094195174, 4943984605, 2094195181, 2094195183, 2094195185, 2009794381, 1912826104, 2009794387, 418335688, 418335689, 2009794352, 418335690, 2009794395, 418335691, 5354846229, 5354846230, 2009607498, 7133351411, 8213606002, 11451800014, 7133351410, 418341443, 3152128570, 9905512591, 5426525032, 2884141237, 3152128566, 2405764878, 3152128567, 418341118, 3152128568, 2884141236, 5356561729, 3152128569, 418341130, 418340966, 418340968, 418341185, 418340969, 418340970, 5427464245, 418341179, 418340971, 418340972, 2009794400, 418340956, 5881622803, 418347345, 5881622801, 5881360865, 418497854, 5881360866, 5881360867, 880392334, 2009794407, 418341786, 4192031101, 4192031103, 11149832524, 418347190, 4531819296]\n"
     ]
    }
   ],
   "source": [
    "route_no_weight = list(nx.shortest_path(G_base, 2094195159, 4531819296))\n",
    "print(route_no_weight)"
   ],
   "metadata": {
    "collapsed": false,
    "ExecuteTime": {
     "end_time": "2024-06-16T11:16:31.512532Z",
     "start_time": "2024-06-16T11:16:31.509061Z"
    }
   },
   "id": "24574bfa0e60c12d",
   "execution_count": 9
  },
  {
   "cell_type": "code",
   "outputs": [
    {
     "ename": "TypeError",
     "evalue": "'tuple' object does not support item assignment",
     "output_type": "error",
     "traceback": [
      "\u001B[1;31m---------------------------------------------------------------------------\u001B[0m",
      "\u001B[1;31mTypeError\u001B[0m                                 Traceback (most recent call last)",
      "Cell \u001B[1;32mIn[23], line 2\u001B[0m\n\u001B[0;32m      1\u001B[0m \u001B[38;5;28;01mfor\u001B[39;00m e \u001B[38;5;129;01min\u001B[39;00m G_base\u001B[38;5;241m.\u001B[39medges(data\u001B[38;5;241m=\u001B[39m\u001B[38;5;28;01mTrue\u001B[39;00m):\n\u001B[1;32m----> 2\u001B[0m     \u001B[43me\u001B[49m\u001B[43m[\u001B[49m\u001B[38;5;124;43m'\u001B[39;49m\u001B[38;5;124;43mtraffic_level\u001B[39;49m\u001B[38;5;124;43m'\u001B[39;49m\u001B[43m]\u001B[49m \u001B[38;5;241m=\u001B[39m \u001B[38;5;241m1\u001B[39m\n\u001B[0;32m      5\u001B[0m route_weight \u001B[38;5;241m=\u001B[39m \u001B[38;5;28mlist\u001B[39m(nx\u001B[38;5;241m.\u001B[39mshortest_path(G_base, \u001B[38;5;241m2094195159\u001B[39m, \u001B[38;5;241m4531819296\u001B[39m, weight\u001B[38;5;241m=\u001B[39m\u001B[38;5;124m'\u001B[39m\u001B[38;5;124mtraffic_level\u001B[39m\u001B[38;5;124m'\u001B[39m))\n\u001B[0;32m      6\u001B[0m \u001B[38;5;28mprint\u001B[39m(route_weight)\n",
      "\u001B[1;31mTypeError\u001B[0m: 'tuple' object does not support item assignment"
     ]
    }
   ],
   "source": [
    "for e in G_base.edges(data=True):\n",
    "    e['traffic_level'] = 1\n",
    "    \n",
    "\n",
    "route_weight = list(nx.shortest_path(G_base, 2094195159, 4531819296, weight='traffic_level'))\n",
    "print(route_weight)"
   ],
   "metadata": {
    "collapsed": false,
    "ExecuteTime": {
     "end_time": "2024-06-16T11:46:27.336770Z",
     "start_time": "2024-06-16T11:46:27.323519Z"
    }
   },
   "id": "bcf9f9ba6bf41910",
   "execution_count": 23
  },
  {
   "cell_type": "code",
   "outputs": [
    {
     "name": "stdout",
     "output_type": "stream",
     "text": [
      "{'y': 36.7256051, 'x': -4.4613246, 'street_count': 2}\n",
      "{'y': 36.7256048, 'x': -4.4612843, 'street_count': 2}\n",
      "{'y': 36.7256115, 'x': -4.4612529, 'street_count': 2}\n",
      "{'y': 36.7256238, 'x': -4.4612243, 'street_count': 3}\n",
      "{'y': 36.7256412, 'x': -4.4612001, 'street_count': 3}\n",
      "{'y': 36.7256778, 'x': -4.4611734, 'street_count': 2}\n",
      "{'y': 36.7257197, 'x': -4.4611659, 'street_count': 2}\n",
      "{'y': 36.7257609, 'x': -4.4611787, 'street_count': 2}\n",
      "{'y': 36.7257951, 'x': -4.4612098, 'street_count': 2}\n",
      "{'y': 36.7258174, 'x': -4.4612548, 'street_count': 2}\n",
      "{'y': 36.7258245, 'x': -4.4613069, 'street_count': 2}\n",
      "{'y': 36.7258154, 'x': -4.4613585, 'street_count': 3}\n",
      "{'y': 36.7257955, 'x': -4.4613967, 'street_count': 3}\n",
      "{'y': 36.7258002, 'x': -4.4614534, 'street_count': 2}\n",
      "{'y': 36.7257759, 'x': -4.4617122, 'street_count': 2}\n",
      "{'y': 36.7257693, 'x': -4.4617819, 'street_count': 2}\n",
      "{'y': 36.7257237, 'x': -4.4620078, 'street_count': 3}\n",
      "{'y': 36.7257264, 'x': -4.4620455, 'street_count': 2}\n",
      "{'y': 36.7257207, 'x': -4.4620826, 'street_count': 2}\n",
      "{'y': 36.7257072, 'x': -4.4621164, 'street_count': 3}\n",
      "{'y': 36.7255919, 'x': -4.4630317, 'ref': '819', 'street_count': 2}\n",
      "{'y': 36.7255672, 'x': -4.4632364, 'street_count': 4}\n",
      "{'y': 36.7254867, 'x': -4.4632199, 'street_count': 4}\n",
      "{'y': 36.725384, 'x': -4.4631971, 'highway': 'crossing', 'street_count': 2}\n",
      "{'y': 36.724672, 'x': -4.4630389, 'highway': 'crossing', 'street_count': 2}\n",
      "{'y': 36.7239695, 'x': -4.4628893, 'highway': 'crossing', 'street_count': 2}\n",
      "{'y': 36.7239123, 'x': -4.4628785, 'street_count': 2}\n",
      "{'y': 36.723852, 'x': -4.462865, 'street_count': 4}\n",
      "{'y': 36.7237833, 'x': -4.4628502, 'street_count': 2}\n",
      "{'y': 36.7233368, 'x': -4.4627579, 'street_count': 2}\n",
      "{'y': 36.7228991, 'x': -4.4626674, 'street_count': 2}\n",
      "{'y': 36.7227253, 'x': -4.4626318, 'highway': 'crossing', 'street_count': 2}\n",
      "{'y': 36.7224555, 'x': -4.4625756, 'street_count': 2}\n",
      "{'y': 36.7223823, 'x': -4.4625605, 'street_count': 2}\n",
      "{'y': 36.7220041, 'x': -4.4624823, 'street_count': 2}\n",
      "{'y': 36.7216474, 'x': -4.4624086, 'street_count': 2}\n",
      "{'y': 36.7216056, 'x': -4.4624002, 'highway': 'crossing', 'street_count': 2}\n",
      "{'y': 36.7214857, 'x': -4.4623751, 'street_count': 4}\n",
      "{'y': 36.7207883, 'x': -4.4622311, 'street_count': 2}\n",
      "{'y': 36.7202008, 'x': -4.4621098, 'highway': 'crossing', 'street_count': 2}\n",
      "{'y': 36.7201473, 'x': -4.4620927, 'street_count': 2}\n",
      "{'y': 36.7200765, 'x': -4.4620774, 'street_count': 5}\n",
      "{'y': 36.7198697, 'x': -4.4620705, 'street_count': 4}\n",
      "{'y': 36.7198569, 'x': -4.4617636, 'street_count': 3}\n",
      "{'y': 36.7198246, 'x': -4.461136, 'street_count': 3}\n",
      "{'y': 36.7198032, 'x': -4.4606487, 'highway': 'crossing', 'street_count': 2}\n",
      "{'y': 36.7197928, 'x': -4.4605591, 'street_count': 2}\n",
      "{'y': 36.7197635, 'x': -4.4604104, 'street_count': 3}\n",
      "{'y': 36.719718, 'x': -4.4603834, 'street_count': 2}\n",
      "{'y': 36.7196365, 'x': -4.4602973, 'street_count': 2}\n",
      "{'y': 36.7195881, 'x': -4.4602005, 'ref': '1419', 'street_count': 2}\n",
      "{'y': 36.7195729, 'x': -4.4601303, 'street_count': 2}\n",
      "{'y': 36.7195684, 'x': -4.4599753, 'street_count': 3}\n",
      "{'y': 36.7195948, 'x': -4.4598865, 'street_count': 2}\n",
      "{'y': 36.7196526, 'x': -4.4597931, 'street_count': 2}\n",
      "{'y': 36.7197047, 'x': -4.4597395, 'street_count': 3}\n",
      "{'y': 36.7197427, 'x': -4.4594927, 'street_count': 2}\n",
      "{'y': 36.719745, 'x': -4.4594552, 'highway': 'crossing', 'street_count': 2}\n",
      "{'y': 36.7197287, 'x': -4.4590607, 'street_count': 2}\n",
      "{'y': 36.7197097, 'x': -4.4587613, 'street_count': 3}\n"
     ]
    },
    {
     "ename": "KeyError",
     "evalue": "9613272650",
     "output_type": "error",
     "traceback": [
      "\u001B[1;31m---------------------------------------------------------------------------\u001B[0m",
      "\u001B[1;31mKeyError\u001B[0m                                  Traceback (most recent call last)",
      "Cell \u001B[1;32mIn[16], line 2\u001B[0m\n\u001B[0;32m      1\u001B[0m \u001B[38;5;28;01mfor\u001B[39;00m node \u001B[38;5;129;01min\u001B[39;00m route:\n\u001B[1;32m----> 2\u001B[0m     \u001B[38;5;28mprint\u001B[39m(\u001B[43mG_own\u001B[49m\u001B[38;5;241;43m.\u001B[39;49m\u001B[43mnodes\u001B[49m\u001B[43m[\u001B[49m\u001B[43mnode\u001B[49m\u001B[43m]\u001B[49m)\n",
      "File \u001B[1;32m~\\PycharmProjects\\translate_LatLon\\.venv\\Lib\\site-packages\\networkx\\classes\\reportviews.py:194\u001B[0m, in \u001B[0;36mNodeView.__getitem__\u001B[1;34m(self, n)\u001B[0m\n\u001B[0;32m    189\u001B[0m \u001B[38;5;28;01mif\u001B[39;00m \u001B[38;5;28misinstance\u001B[39m(n, \u001B[38;5;28mslice\u001B[39m):\n\u001B[0;32m    190\u001B[0m     \u001B[38;5;28;01mraise\u001B[39;00m nx\u001B[38;5;241m.\u001B[39mNetworkXError(\n\u001B[0;32m    191\u001B[0m         \u001B[38;5;124mf\u001B[39m\u001B[38;5;124m\"\u001B[39m\u001B[38;5;132;01m{\u001B[39;00m\u001B[38;5;28mtype\u001B[39m(\u001B[38;5;28mself\u001B[39m)\u001B[38;5;241m.\u001B[39m\u001B[38;5;18m__name__\u001B[39m\u001B[38;5;132;01m}\u001B[39;00m\u001B[38;5;124m does not support slicing, \u001B[39m\u001B[38;5;124m\"\u001B[39m\n\u001B[0;32m    192\u001B[0m         \u001B[38;5;124mf\u001B[39m\u001B[38;5;124m\"\u001B[39m\u001B[38;5;124mtry list(G.nodes)[\u001B[39m\u001B[38;5;132;01m{\u001B[39;00mn\u001B[38;5;241m.\u001B[39mstart\u001B[38;5;132;01m}\u001B[39;00m\u001B[38;5;124m:\u001B[39m\u001B[38;5;132;01m{\u001B[39;00mn\u001B[38;5;241m.\u001B[39mstop\u001B[38;5;132;01m}\u001B[39;00m\u001B[38;5;124m:\u001B[39m\u001B[38;5;132;01m{\u001B[39;00mn\u001B[38;5;241m.\u001B[39mstep\u001B[38;5;132;01m}\u001B[39;00m\u001B[38;5;124m]\u001B[39m\u001B[38;5;124m\"\u001B[39m\n\u001B[0;32m    193\u001B[0m     )\n\u001B[1;32m--> 194\u001B[0m \u001B[38;5;28;01mreturn\u001B[39;00m \u001B[38;5;28;43mself\u001B[39;49m\u001B[38;5;241;43m.\u001B[39;49m\u001B[43m_nodes\u001B[49m\u001B[43m[\u001B[49m\u001B[43mn\u001B[49m\u001B[43m]\u001B[49m\n",
      "\u001B[1;31mKeyError\u001B[0m: 9613272650"
     ]
    }
   ],
   "source": [
    "for node in route:\n",
    "    print(G_own.nodes[node])"
   ],
   "metadata": {
    "collapsed": false,
    "ExecuteTime": {
     "end_time": "2024-06-12T14:14:32.873051Z",
     "start_time": "2024-06-12T14:14:32.820866Z"
    }
   },
   "id": "1df78206443ae88d",
   "execution_count": 16
  },
  {
   "cell_type": "code",
   "outputs": [],
   "source": [
    "from pymongo import MongoClient\n",
    "\n",
    "# Requires the PyMongo package.\n",
    "# https://api.mongodb.com/python/current\n",
    "\n",
    "client = MongoClient('mongodb://localhost:27017/')\n",
    "result = client['TFG']['graphs'].aggregate([\n",
    "    {\n",
    "        '$group': {\n",
    "            '_id': '$filename', \n",
    "            'uniqueDocs': {\n",
    "                '$first': '$$ROOT'\n",
    "            }\n",
    "        }\n",
    "    }, {\n",
    "        '$replaceRoot': {\n",
    "            'newRoot': '$uniqueDocs'\n",
    "        }\n",
    "    }\n",
    "])\n",
    "\n",
    "result = list(result)\n",
    "\n",
    "import json\n",
    "# Save the result to a JSON file\n",
    "with open('output.json', 'w') as file:\n",
    "    json.dump(result, file, default=str, indent=4)\n",
    "    "
   ],
   "metadata": {
    "collapsed": false,
    "is_executing": true
   },
   "id": "d6c5b3b94b6f4101",
   "execution_count": null
  },
  {
   "cell_type": "code",
   "outputs": [
    {
     "name": "stdout",
     "output_type": "stream",
     "text": [
      "Datetime fields updated to Date type.\n"
     ]
    }
   ],
   "source": [
    "from pymongo import MongoClient\n",
    "\n",
    "client = MongoClient('mongodb://localhost:27017/')\n",
    "collection = client['TFG']['graphs_clean']\n",
    "collection.update_many(\n",
    "    {},\n",
    "    [\n",
    "        {\n",
    "            \"$set\": {\n",
    "                \"datetime\": {\n",
    "                    \"$dateFromString\": {\n",
    "                        \"dateString\": \"$datetime\",\n",
    "                        \"format\": \"%Y-%m-%d %H:%M:%S\"\n",
    "                    }\n",
    "                }\n",
    "            }\n",
    "        }\n",
    "    ]\n",
    ")\n",
    "\n",
    "print(\"Datetime fields updated to Date type.\")"
   ],
   "metadata": {
    "collapsed": false,
    "ExecuteTime": {
     "end_time": "2024-07-26T12:07:47.277456Z",
     "start_time": "2024-07-26T12:07:43.977795Z"
    }
   },
   "id": "79b9d1ff24a491b4",
   "execution_count": 3
  },
  {
   "cell_type": "code",
   "outputs": [],
   "source": [
    "import networkx as nx\n",
    "import osmnx as ox\n",
    "G_base = ox.load_graphml('./graph_output/base_graph.graphml')\n",
    "\n",
    "# Traffic Lights nodes\n",
    "nodes_with_tl = [6673740454, 6673740455, 1039214555, 1039214910, 1648203777, 4192025593, 880392359, 1052330903, 5376511114, 1143799037, 5840213940, 2094195161, 2874546303, 5356669924, 5341770502, 4664242443, 5343394579, 5341746544, 696433012, 5940544411, 5224706524]\n",
    "\n",
    "# Set traffic lights to True\n",
    "for node in nodes_with_tl:\n",
    "    if node in G_base.nodes:\n",
    "        G_base.nodes[node]['traffic_light'] = True\n",
    "        \n",
    "# Save graph\n",
    "ox.save_graphml(G_base, './graph_output/base_graph.graphml')"
   ],
   "metadata": {
    "collapsed": false,
    "ExecuteTime": {
     "end_time": "2024-09-12T10:04:34.500419Z",
     "start_time": "2024-09-12T10:04:33.894124Z"
    }
   },
   "id": "fee6a4aaf4724049",
   "execution_count": 11
  }
 ],
 "metadata": {
  "kernelspec": {
   "display_name": "Python 3",
   "language": "python",
   "name": "python3"
  },
  "language_info": {
   "codemirror_mode": {
    "name": "ipython",
    "version": 2
   },
   "file_extension": ".py",
   "mimetype": "text/x-python",
   "name": "python",
   "nbconvert_exporter": "python",
   "pygments_lexer": "ipython2",
   "version": "2.7.6"
  }
 },
 "nbformat": 4,
 "nbformat_minor": 5
}
